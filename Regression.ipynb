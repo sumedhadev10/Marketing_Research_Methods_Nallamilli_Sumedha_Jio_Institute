{
  "nbformat": 4,
  "nbformat_minor": 0,
  "metadata": {
    "colab": {
      "provenance": [],
      "authorship_tag": "ABX9TyMLJ+SrKIl0b9N+Mn0f4BXM",
      "include_colab_link": true
    },
    "kernelspec": {
      "name": "python3",
      "display_name": "Python 3"
    },
    "language_info": {
      "name": "python"
    }
  },
  "cells": [
    {
      "cell_type": "markdown",
      "metadata": {
        "id": "view-in-github",
        "colab_type": "text"
      },
      "source": [
        "<a href=\"https://colab.research.google.com/github/Sam-415/Marketing-research-methods---Samhita_-Jio-Institute/blob/new-branch-name/Untitled0.ipynb\" target=\"_parent\"><img src=\"https://colab.research.google.com/assets/colab-badge.svg\" alt=\"Open In Colab\"/></a>"
      ]
    },
    {
      "cell_type": "code",
      "execution_count": null,
      "metadata": {
        "colab": {
          "base_uri": "https://localhost:8080/"
        },
        "id": "hVkQvaBWs14A",
        "outputId": "7cfd2c4b-15ff-4610-bc53-e2f819a3d8e0"
      },
      "outputs": [
        {
          "output_type": "stream",
          "name": "stdout",
          "text": [
            "Enter the first number: 1\n",
            "Enter the second number: 2\n",
            "The sum of 1.0 and 2.0 is: 3.0\n"
          ]
        }
      ],
      "source": [
        "# Simple Addition Program\n",
        "\n",
        "# Function to perform addition\n",
        "def add_numbers(a, b):\n",
        "    return a + b\n",
        "\n",
        "# Input from the user\n",
        "num1 = float(input(\"Enter the first number: \"))\n",
        "num2 = float(input(\"Enter the second number: \"))\n",
        "\n",
        "# Perform addition\n",
        "result = add_numbers(num1, num2)\n",
        "\n",
        "# Display the result\n",
        "print(f\"The sum of {num1} and {num2} is: {result}\")\n"
      ]
    },
    {
      "cell_type": "code",
      "source": [
        "import pandas as pd\n",
        "import statsmodels.api as sm\n",
        "from statsmodels.formula.api import ols\n",
        "from statsmodels.stats.anova import anova_lm\n",
        "\n",
        "# Creating the dataset\n",
        "data = {\n",
        "    \"Purchase_likelihood\": [7, 6, 5, 6, 7, 6, 5, 6, 5, 4, 6, 5, 5],\n",
        "    \"Condition\": [\"Fee-high discount\"] * 13  # All observations have the same condition\n",
        "}\n",
        "df = pd.DataFrame(data)\n",
        "\n",
        "# Since all data is from the same condition, we cannot run ANOVA meaningfully.\n",
        "# We need at least two groups in the Condition variable.\n",
        "# Adding another condition for demonstration purposes.\n",
        "# Uncomment below lines if you want to add a second condition for comparison.\n",
        "# df_extra = pd.DataFrame({\n",
        "#     \"Purchase_likelihood\": [8, 7, 6, 7, 8, 7, 6, 7, 6, 5, 7, 6, 6],\n",
        "#     \"Condition\": [\"Fee-low discount\"] * 13\n",
        "# })\n",
        "# df = pd.concat([df, df_extra], ignore_index=True)\n",
        "\n",
        "# Ensure Condition is a categorical variable\n",
        "df[\"Condition\"] = df[\"Condition\"].astype(\"category\")\n",
        "\n",
        "# Fit the ANOVA model\n",
        "model = ols(\"Purchase_likelihood ~ C(Condition)\", data=df).fit()\n",
        "\n",
        "# Perform ANOVA\n",
        "anova_results = anova_lm(model)\n",
        "print(anova_results)\n"
      ],
      "metadata": {
        "colab": {
          "base_uri": "https://localhost:8080/"
        },
        "id": "5HMspJETvsGg",
        "outputId": "92dcedd6-4ef6-4822-f8f2-1958cb7bc8e1"
      },
      "execution_count": null,
      "outputs": [
        {
          "output_type": "stream",
          "name": "stdout",
          "text": [
            "                df    sum_sq  mean_sq   F  PR(>F)\n",
            "C(Condition)   0.0  0.000000      NaN NaN     NaN\n",
            "Residual      12.0  9.076923  0.75641 NaN     NaN\n"
          ]
        }
      ]
    },
    {
      "cell_type": "code",
      "source": [
        "# Import required libraries\n",
        "import pandas as pd\n",
        "import numpy as np\n",
        "import statsmodels.api as sm\n",
        "from sklearn.model_selection import train_test_split\n",
        "\n",
        "# Load the dataset\n",
        "file_path = '/content/_autos - regression.xlsx'\n",
        "\n",
        "# Read the dataset\n",
        "df = pd.read_excel(file_path)\n",
        "\n",
        "# Display the first few rows\n",
        "print(\"Dataset Head:\")\n",
        "print(df.head())\n",
        "\n",
        "# Handle empty or blank cells\n",
        "# Replace blank cells with NaN, then drop rows with missing 'Price'\n",
        "df.dropna(inplace=True)\n",
        "df.dropna(subset=['price'], inplace=True)\n",
        "\n",
        "# Define dependent and independent variables\n",
        "X = df.drop(columns=['price'])  # Independent variables\n",
        "y = df['price']  # Dependent variable\n",
        "\n",
        "# Convert categorical variables to dummy/indicator variables\n",
        "X = pd.get_dummies(X, drop_first=True)\n",
        "\n",
        "# Add a constant term to the model (intercept)\n",
        "X = sm.add_constant(X)\n",
        "\n",
        "# Split the data into training and testing sets (optional)\n",
        "X_train, X_test, y_train, y_test = train_test_split(X, y, test_size=0.2, random_state=42)\n",
        "\n",
        "# Fit the regression model\n",
        "model = sm.OLS(y_train, X_train).fit()\n",
        "\n",
        "# Print model summary\n",
        "print(model.summary())\n",
        "\n",
        "# Predict on the test set (optional)\n",
        "y_pred = model.predict(X_test)\n",
        "\n",
        "# Evaluate the model (optional)\n",
        "from sklearn.metrics import mean_squared_error, r2_score\n",
        "mse = mean_squared_error(y_test, y_pred)\n",
        "r2 = r2_score(y_test, y_pred)\n",
        "\n",
        "print(\"\\nModel Evaluation:\")\n",
        "print(f\"Mean Squared Error: {mse}\")\n",
        "print(f\"R-squared: {r2}\")\n"
      ],
      "metadata": {
        "colab": {
          "base_uri": "https://localhost:8080/"
        },
        "id": "iR0Q3yoE0Uya",
        "outputId": "1287a12c-63e7-45d5-d874-d7eb8d909266"
      },
      "execution_count": null,
      "outputs": [
        {
          "output_type": "stream",
          "name": "stdout",
          "text": [
            "Dataset Head:\n",
            "   index         dateCrawled                            name  seller  \\\n",
            "0      0 2016-03-24 11:52:00                      Golf_3_1.6  privat   \n",
            "1      1 2016-03-24 10:58:00            A5_Sportback_2.7_Tdi  privat   \n",
            "2      2 2016-03-14 12:52:00  Jeep_Grand_Cherokee_\"Overland\"  privat   \n",
            "3      3 2016-03-17 16:54:00              GOLF_4_1_4__3TÜRER  privat   \n",
            "4      4 2016-03-31 17:25:00  Skoda_Fabia_1.4_TDI_PD_Classic  privat   \n",
            "\n",
            "  offerType  price abtest vehicleType  yearOfRegistration    gearbox  ...  \\\n",
            "0   Angebot    480   test         NaN                1993    manuell  ...   \n",
            "1   Angebot  18300   test       coupe                2011    manuell  ...   \n",
            "2   Angebot   9800   test         suv                2004  automatik  ...   \n",
            "3   Angebot   1500   test  kleinwagen                2001    manuell  ...   \n",
            "4   Angebot   3600   test  kleinwagen                2008    manuell  ...   \n",
            "\n",
            "   model kilometer  monthOfRegistration  fuelType       brand  \\\n",
            "0   golf    150000                    0    benzin  volkswagen   \n",
            "1    NaN    125000                    5    diesel        audi   \n",
            "2  grand    125000                    8    diesel        jeep   \n",
            "3   golf    150000                    6    benzin  volkswagen   \n",
            "4  fabia     90000                    7    diesel       skoda   \n",
            "\n",
            "  notRepairedDamage dateCreated nrOfPictures  postalCode            lastSeen  \n",
            "0               NaN  2016-03-24            0       70435 2016-04-07 03:16:00  \n",
            "1                ja  2016-03-24            0       66954 2016-04-07 01:46:00  \n",
            "2               NaN  2016-03-14            0       90480 2016-04-05 12:47:00  \n",
            "3              nein  2016-03-17            0       91074 2016-03-17 17:40:00  \n",
            "4              nein  2016-03-31            0       60437 2016-04-06 10:17:00  \n",
            "\n",
            "[5 rows x 21 columns]\n"
          ]
        }
      ]
    },
    {
      "cell_type": "code",
      "source": [],
      "metadata": {
        "id": "71XObLBz3YGW"
      },
      "execution_count": null,
      "outputs": []
    }
  ]
}
